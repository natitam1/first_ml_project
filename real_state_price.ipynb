{
 "cells": [
  {
   "cell_type": "code",
   "execution_count": null,
   "id": "db792a9c",
   "metadata": {},
   "outputs": [],
   "source": []
  }
 ],
 "metadata": {
  "language_info": {
   "name": "python"
  }
 },
 "nbformat": 4,
 "nbformat_minor": 5
}
